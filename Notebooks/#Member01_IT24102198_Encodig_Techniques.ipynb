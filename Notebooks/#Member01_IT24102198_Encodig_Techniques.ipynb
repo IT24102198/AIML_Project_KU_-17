{
  "cells": [
    {
      "cell_type": "markdown",
      "metadata": {
        "id": "lfX01ZjPhS3q"
      },
      "source": [
        "# **Import Libraries**"
      ]
    },
    {
      "cell_type": "code",
      "execution_count": 2,
      "metadata": {
        "id": "o6x7kHkthVpj"
      },
      "outputs": [],
      "source": [
        "import pandas as pd\n",
        "import numpy as np\n",
        "import matplotlib.pyplot as plt\n",
        "import seaborn as sns\n",
        "\n",
        "from sklearn.preprocessing import LabelEncoder\n",
        "from sklearn.preprocessing import OneHotEncoder"
      ]
    },
    {
      "cell_type": "code",
      "source": [
        "from google.colab import drive\n",
        "drive.mount('/content/drive')"
      ],
      "metadata": {
        "colab": {
          "base_uri": "https://localhost:8080/"
        },
        "id": "up_gda3p56lx",
        "outputId": "93e20afd-b354-48c5-97fe-8e13e517301b"
      },
      "execution_count": 3,
      "outputs": [
        {
          "output_type": "stream",
          "name": "stdout",
          "text": [
            "Mounted at /content/drive\n"
          ]
        }
      ]
    },
    {
      "cell_type": "markdown",
      "metadata": {
        "id": "mI-amaf6oTvI"
      },
      "source": [
        "# **Encoding Categorical Variables**"
      ]
    },
    {
      "cell_type": "code",
      "execution_count": 4,
      "metadata": {
        "id": "pHTGepG3oYWH"
      },
      "outputs": [],
      "source": [
        "df = pd.read_csv('/content/drive/MyDrive/KU-17_B01_Kandy_Uni/results/outputs/survey_scaled.csv')"
      ]
    },
    {
      "cell_type": "code",
      "execution_count": 5,
      "metadata": {
        "colab": {
          "base_uri": "https://localhost:8080/",
          "height": 429
        },
        "id": "WCUI-DBgpm9t",
        "outputId": "8a87b3b2-732d-4230-af07-713c88aa0a6a"
      },
      "outputs": [
        {
          "output_type": "execute_result",
          "data": {
            "text/plain": [
              "             Timestamp  Age         Country self_employed family_history  \\\n",
              "0  2014-08-27 11:29:31   37   United States       Unknown             No   \n",
              "1  2014-08-27 11:29:37   44   United States       Unknown             No   \n",
              "2  2014-08-27 11:29:44   32          Canada       Unknown             No   \n",
              "3  2014-08-27 11:29:46   31  United Kingdom       Unknown            Yes   \n",
              "4  2014-08-27 11:30:22   31   United States       Unknown             No   \n",
              "\n",
              "  treatment work_interfere    no_employees remote_work tech_company  ...  \\\n",
              "0       Yes          Often            6-25          No          Yes  ...   \n",
              "1        No         Rarely  More than 1000          No           No  ...   \n",
              "2        No         Rarely            6-25          No          Yes  ...   \n",
              "3       Yes          Often          26-100          No          Yes  ...   \n",
              "4        No          Never         100-500         Yes          Yes  ...   \n",
              "\n",
              "  mental_health_consequence phys_health_consequence     coworkers supervisor  \\\n",
              "0                        No                      No  Some of them        Yes   \n",
              "1                     Maybe                      No            No         No   \n",
              "2                        No                      No           Yes        Yes   \n",
              "3                       Yes                     Yes  Some of them         No   \n",
              "4                        No                      No  Some of them        Yes   \n",
              "\n",
              "  mental_health_interview phys_health_interview mental_vs_physical  \\\n",
              "0                      No                 Maybe                Yes   \n",
              "1                      No                    No         Don't know   \n",
              "2                     Yes                   Yes                 No   \n",
              "3                   Maybe                 Maybe                 No   \n",
              "4                     Yes                   Yes         Don't know   \n",
              "\n",
              "  obs_consequence Gender_Clean Age_standardized  \n",
              "0              No       female         0.675640  \n",
              "1              No         male         1.625171  \n",
              "2              No         male        -0.002596  \n",
              "3             Yes         male        -0.138243  \n",
              "4              No         male        -0.138243  \n",
              "\n",
              "[5 rows x 26 columns]"
            ],
            "text/html": [
              "\n",
              "  <div id=\"df-9e399ae3-db39-4a68-96e6-98df43699f53\" class=\"colab-df-container\">\n",
              "    <div>\n",
              "<style scoped>\n",
              "    .dataframe tbody tr th:only-of-type {\n",
              "        vertical-align: middle;\n",
              "    }\n",
              "\n",
              "    .dataframe tbody tr th {\n",
              "        vertical-align: top;\n",
              "    }\n",
              "\n",
              "    .dataframe thead th {\n",
              "        text-align: right;\n",
              "    }\n",
              "</style>\n",
              "<table border=\"1\" class=\"dataframe\">\n",
              "  <thead>\n",
              "    <tr style=\"text-align: right;\">\n",
              "      <th></th>\n",
              "      <th>Timestamp</th>\n",
              "      <th>Age</th>\n",
              "      <th>Country</th>\n",
              "      <th>self_employed</th>\n",
              "      <th>family_history</th>\n",
              "      <th>treatment</th>\n",
              "      <th>work_interfere</th>\n",
              "      <th>no_employees</th>\n",
              "      <th>remote_work</th>\n",
              "      <th>tech_company</th>\n",
              "      <th>...</th>\n",
              "      <th>mental_health_consequence</th>\n",
              "      <th>phys_health_consequence</th>\n",
              "      <th>coworkers</th>\n",
              "      <th>supervisor</th>\n",
              "      <th>mental_health_interview</th>\n",
              "      <th>phys_health_interview</th>\n",
              "      <th>mental_vs_physical</th>\n",
              "      <th>obs_consequence</th>\n",
              "      <th>Gender_Clean</th>\n",
              "      <th>Age_standardized</th>\n",
              "    </tr>\n",
              "  </thead>\n",
              "  <tbody>\n",
              "    <tr>\n",
              "      <th>0</th>\n",
              "      <td>2014-08-27 11:29:31</td>\n",
              "      <td>37</td>\n",
              "      <td>United States</td>\n",
              "      <td>Unknown</td>\n",
              "      <td>No</td>\n",
              "      <td>Yes</td>\n",
              "      <td>Often</td>\n",
              "      <td>6-25</td>\n",
              "      <td>No</td>\n",
              "      <td>Yes</td>\n",
              "      <td>...</td>\n",
              "      <td>No</td>\n",
              "      <td>No</td>\n",
              "      <td>Some of them</td>\n",
              "      <td>Yes</td>\n",
              "      <td>No</td>\n",
              "      <td>Maybe</td>\n",
              "      <td>Yes</td>\n",
              "      <td>No</td>\n",
              "      <td>female</td>\n",
              "      <td>0.675640</td>\n",
              "    </tr>\n",
              "    <tr>\n",
              "      <th>1</th>\n",
              "      <td>2014-08-27 11:29:37</td>\n",
              "      <td>44</td>\n",
              "      <td>United States</td>\n",
              "      <td>Unknown</td>\n",
              "      <td>No</td>\n",
              "      <td>No</td>\n",
              "      <td>Rarely</td>\n",
              "      <td>More than 1000</td>\n",
              "      <td>No</td>\n",
              "      <td>No</td>\n",
              "      <td>...</td>\n",
              "      <td>Maybe</td>\n",
              "      <td>No</td>\n",
              "      <td>No</td>\n",
              "      <td>No</td>\n",
              "      <td>No</td>\n",
              "      <td>No</td>\n",
              "      <td>Don't know</td>\n",
              "      <td>No</td>\n",
              "      <td>male</td>\n",
              "      <td>1.625171</td>\n",
              "    </tr>\n",
              "    <tr>\n",
              "      <th>2</th>\n",
              "      <td>2014-08-27 11:29:44</td>\n",
              "      <td>32</td>\n",
              "      <td>Canada</td>\n",
              "      <td>Unknown</td>\n",
              "      <td>No</td>\n",
              "      <td>No</td>\n",
              "      <td>Rarely</td>\n",
              "      <td>6-25</td>\n",
              "      <td>No</td>\n",
              "      <td>Yes</td>\n",
              "      <td>...</td>\n",
              "      <td>No</td>\n",
              "      <td>No</td>\n",
              "      <td>Yes</td>\n",
              "      <td>Yes</td>\n",
              "      <td>Yes</td>\n",
              "      <td>Yes</td>\n",
              "      <td>No</td>\n",
              "      <td>No</td>\n",
              "      <td>male</td>\n",
              "      <td>-0.002596</td>\n",
              "    </tr>\n",
              "    <tr>\n",
              "      <th>3</th>\n",
              "      <td>2014-08-27 11:29:46</td>\n",
              "      <td>31</td>\n",
              "      <td>United Kingdom</td>\n",
              "      <td>Unknown</td>\n",
              "      <td>Yes</td>\n",
              "      <td>Yes</td>\n",
              "      <td>Often</td>\n",
              "      <td>26-100</td>\n",
              "      <td>No</td>\n",
              "      <td>Yes</td>\n",
              "      <td>...</td>\n",
              "      <td>Yes</td>\n",
              "      <td>Yes</td>\n",
              "      <td>Some of them</td>\n",
              "      <td>No</td>\n",
              "      <td>Maybe</td>\n",
              "      <td>Maybe</td>\n",
              "      <td>No</td>\n",
              "      <td>Yes</td>\n",
              "      <td>male</td>\n",
              "      <td>-0.138243</td>\n",
              "    </tr>\n",
              "    <tr>\n",
              "      <th>4</th>\n",
              "      <td>2014-08-27 11:30:22</td>\n",
              "      <td>31</td>\n",
              "      <td>United States</td>\n",
              "      <td>Unknown</td>\n",
              "      <td>No</td>\n",
              "      <td>No</td>\n",
              "      <td>Never</td>\n",
              "      <td>100-500</td>\n",
              "      <td>Yes</td>\n",
              "      <td>Yes</td>\n",
              "      <td>...</td>\n",
              "      <td>No</td>\n",
              "      <td>No</td>\n",
              "      <td>Some of them</td>\n",
              "      <td>Yes</td>\n",
              "      <td>Yes</td>\n",
              "      <td>Yes</td>\n",
              "      <td>Don't know</td>\n",
              "      <td>No</td>\n",
              "      <td>male</td>\n",
              "      <td>-0.138243</td>\n",
              "    </tr>\n",
              "  </tbody>\n",
              "</table>\n",
              "<p>5 rows × 26 columns</p>\n",
              "</div>\n",
              "    <div class=\"colab-df-buttons\">\n",
              "\n",
              "  <div class=\"colab-df-container\">\n",
              "    <button class=\"colab-df-convert\" onclick=\"convertToInteractive('df-9e399ae3-db39-4a68-96e6-98df43699f53')\"\n",
              "            title=\"Convert this dataframe to an interactive table.\"\n",
              "            style=\"display:none;\">\n",
              "\n",
              "  <svg xmlns=\"http://www.w3.org/2000/svg\" height=\"24px\" viewBox=\"0 -960 960 960\">\n",
              "    <path d=\"M120-120v-720h720v720H120Zm60-500h600v-160H180v160Zm220 220h160v-160H400v160Zm0 220h160v-160H400v160ZM180-400h160v-160H180v160Zm440 0h160v-160H620v160ZM180-180h160v-160H180v160Zm440 0h160v-160H620v160Z\"/>\n",
              "  </svg>\n",
              "    </button>\n",
              "\n",
              "  <style>\n",
              "    .colab-df-container {\n",
              "      display:flex;\n",
              "      gap: 12px;\n",
              "    }\n",
              "\n",
              "    .colab-df-convert {\n",
              "      background-color: #E8F0FE;\n",
              "      border: none;\n",
              "      border-radius: 50%;\n",
              "      cursor: pointer;\n",
              "      display: none;\n",
              "      fill: #1967D2;\n",
              "      height: 32px;\n",
              "      padding: 0 0 0 0;\n",
              "      width: 32px;\n",
              "    }\n",
              "\n",
              "    .colab-df-convert:hover {\n",
              "      background-color: #E2EBFA;\n",
              "      box-shadow: 0px 1px 2px rgba(60, 64, 67, 0.3), 0px 1px 3px 1px rgba(60, 64, 67, 0.15);\n",
              "      fill: #174EA6;\n",
              "    }\n",
              "\n",
              "    .colab-df-buttons div {\n",
              "      margin-bottom: 4px;\n",
              "    }\n",
              "\n",
              "    [theme=dark] .colab-df-convert {\n",
              "      background-color: #3B4455;\n",
              "      fill: #D2E3FC;\n",
              "    }\n",
              "\n",
              "    [theme=dark] .colab-df-convert:hover {\n",
              "      background-color: #434B5C;\n",
              "      box-shadow: 0px 1px 3px 1px rgba(0, 0, 0, 0.15);\n",
              "      filter: drop-shadow(0px 1px 2px rgba(0, 0, 0, 0.3));\n",
              "      fill: #FFFFFF;\n",
              "    }\n",
              "  </style>\n",
              "\n",
              "    <script>\n",
              "      const buttonEl =\n",
              "        document.querySelector('#df-9e399ae3-db39-4a68-96e6-98df43699f53 button.colab-df-convert');\n",
              "      buttonEl.style.display =\n",
              "        google.colab.kernel.accessAllowed ? 'block' : 'none';\n",
              "\n",
              "      async function convertToInteractive(key) {\n",
              "        const element = document.querySelector('#df-9e399ae3-db39-4a68-96e6-98df43699f53');\n",
              "        const dataTable =\n",
              "          await google.colab.kernel.invokeFunction('convertToInteractive',\n",
              "                                                    [key], {});\n",
              "        if (!dataTable) return;\n",
              "\n",
              "        const docLinkHtml = 'Like what you see? Visit the ' +\n",
              "          '<a target=\"_blank\" href=https://colab.research.google.com/notebooks/data_table.ipynb>data table notebook</a>'\n",
              "          + ' to learn more about interactive tables.';\n",
              "        element.innerHTML = '';\n",
              "        dataTable['output_type'] = 'display_data';\n",
              "        await google.colab.output.renderOutput(dataTable, element);\n",
              "        const docLink = document.createElement('div');\n",
              "        docLink.innerHTML = docLinkHtml;\n",
              "        element.appendChild(docLink);\n",
              "      }\n",
              "    </script>\n",
              "  </div>\n",
              "\n",
              "\n",
              "    <div id=\"df-4c13d208-e5f6-4acd-9471-2940d795e6f3\">\n",
              "      <button class=\"colab-df-quickchart\" onclick=\"quickchart('df-4c13d208-e5f6-4acd-9471-2940d795e6f3')\"\n",
              "                title=\"Suggest charts\"\n",
              "                style=\"display:none;\">\n",
              "\n",
              "<svg xmlns=\"http://www.w3.org/2000/svg\" height=\"24px\"viewBox=\"0 0 24 24\"\n",
              "     width=\"24px\">\n",
              "    <g>\n",
              "        <path d=\"M19 3H5c-1.1 0-2 .9-2 2v14c0 1.1.9 2 2 2h14c1.1 0 2-.9 2-2V5c0-1.1-.9-2-2-2zM9 17H7v-7h2v7zm4 0h-2V7h2v10zm4 0h-2v-4h2v4z\"/>\n",
              "    </g>\n",
              "</svg>\n",
              "      </button>\n",
              "\n",
              "<style>\n",
              "  .colab-df-quickchart {\n",
              "      --bg-color: #E8F0FE;\n",
              "      --fill-color: #1967D2;\n",
              "      --hover-bg-color: #E2EBFA;\n",
              "      --hover-fill-color: #174EA6;\n",
              "      --disabled-fill-color: #AAA;\n",
              "      --disabled-bg-color: #DDD;\n",
              "  }\n",
              "\n",
              "  [theme=dark] .colab-df-quickchart {\n",
              "      --bg-color: #3B4455;\n",
              "      --fill-color: #D2E3FC;\n",
              "      --hover-bg-color: #434B5C;\n",
              "      --hover-fill-color: #FFFFFF;\n",
              "      --disabled-bg-color: #3B4455;\n",
              "      --disabled-fill-color: #666;\n",
              "  }\n",
              "\n",
              "  .colab-df-quickchart {\n",
              "    background-color: var(--bg-color);\n",
              "    border: none;\n",
              "    border-radius: 50%;\n",
              "    cursor: pointer;\n",
              "    display: none;\n",
              "    fill: var(--fill-color);\n",
              "    height: 32px;\n",
              "    padding: 0;\n",
              "    width: 32px;\n",
              "  }\n",
              "\n",
              "  .colab-df-quickchart:hover {\n",
              "    background-color: var(--hover-bg-color);\n",
              "    box-shadow: 0 1px 2px rgba(60, 64, 67, 0.3), 0 1px 3px 1px rgba(60, 64, 67, 0.15);\n",
              "    fill: var(--button-hover-fill-color);\n",
              "  }\n",
              "\n",
              "  .colab-df-quickchart-complete:disabled,\n",
              "  .colab-df-quickchart-complete:disabled:hover {\n",
              "    background-color: var(--disabled-bg-color);\n",
              "    fill: var(--disabled-fill-color);\n",
              "    box-shadow: none;\n",
              "  }\n",
              "\n",
              "  .colab-df-spinner {\n",
              "    border: 2px solid var(--fill-color);\n",
              "    border-color: transparent;\n",
              "    border-bottom-color: var(--fill-color);\n",
              "    animation:\n",
              "      spin 1s steps(1) infinite;\n",
              "  }\n",
              "\n",
              "  @keyframes spin {\n",
              "    0% {\n",
              "      border-color: transparent;\n",
              "      border-bottom-color: var(--fill-color);\n",
              "      border-left-color: var(--fill-color);\n",
              "    }\n",
              "    20% {\n",
              "      border-color: transparent;\n",
              "      border-left-color: var(--fill-color);\n",
              "      border-top-color: var(--fill-color);\n",
              "    }\n",
              "    30% {\n",
              "      border-color: transparent;\n",
              "      border-left-color: var(--fill-color);\n",
              "      border-top-color: var(--fill-color);\n",
              "      border-right-color: var(--fill-color);\n",
              "    }\n",
              "    40% {\n",
              "      border-color: transparent;\n",
              "      border-right-color: var(--fill-color);\n",
              "      border-top-color: var(--fill-color);\n",
              "    }\n",
              "    60% {\n",
              "      border-color: transparent;\n",
              "      border-right-color: var(--fill-color);\n",
              "    }\n",
              "    80% {\n",
              "      border-color: transparent;\n",
              "      border-right-color: var(--fill-color);\n",
              "      border-bottom-color: var(--fill-color);\n",
              "    }\n",
              "    90% {\n",
              "      border-color: transparent;\n",
              "      border-bottom-color: var(--fill-color);\n",
              "    }\n",
              "  }\n",
              "</style>\n",
              "\n",
              "      <script>\n",
              "        async function quickchart(key) {\n",
              "          const quickchartButtonEl =\n",
              "            document.querySelector('#' + key + ' button');\n",
              "          quickchartButtonEl.disabled = true;  // To prevent multiple clicks.\n",
              "          quickchartButtonEl.classList.add('colab-df-spinner');\n",
              "          try {\n",
              "            const charts = await google.colab.kernel.invokeFunction(\n",
              "                'suggestCharts', [key], {});\n",
              "          } catch (error) {\n",
              "            console.error('Error during call to suggestCharts:', error);\n",
              "          }\n",
              "          quickchartButtonEl.classList.remove('colab-df-spinner');\n",
              "          quickchartButtonEl.classList.add('colab-df-quickchart-complete');\n",
              "        }\n",
              "        (() => {\n",
              "          let quickchartButtonEl =\n",
              "            document.querySelector('#df-4c13d208-e5f6-4acd-9471-2940d795e6f3 button');\n",
              "          quickchartButtonEl.style.display =\n",
              "            google.colab.kernel.accessAllowed ? 'block' : 'none';\n",
              "        })();\n",
              "      </script>\n",
              "    </div>\n",
              "\n",
              "    </div>\n",
              "  </div>\n"
            ],
            "application/vnd.google.colaboratory.intrinsic+json": {
              "type": "dataframe",
              "variable_name": "df"
            }
          },
          "metadata": {},
          "execution_count": 5
        }
      ],
      "source": [
        "df.head()"
      ]
    },
    {
      "cell_type": "code",
      "execution_count": 6,
      "metadata": {
        "id": "oazYIQ6sp4B9"
      },
      "outputs": [],
      "source": [
        "# df_encoded = df.copy()"
      ]
    },
    {
      "cell_type": "code",
      "execution_count": 7,
      "metadata": {
        "id": "HQQkVrQD4DBg"
      },
      "outputs": [],
      "source": [
        "# country_counts = df['Country'].value_counts()\n",
        "# country_counts\n"
      ]
    },
    {
      "cell_type": "code",
      "execution_count": 8,
      "metadata": {
        "colab": {
          "base_uri": "https://localhost:8080/"
        },
        "id": "Lw9FcKdR53SG",
        "outputId": "b48a3259-2992-487f-8293-2002712155d8"
      },
      "outputs": [
        {
          "output_type": "stream",
          "name": "stdout",
          "text": [
            "Country value counts after grouping rare countries (df):\n",
            "Country\n",
            "United States     748\n",
            "United Kingdom    184\n",
            "Other             107\n",
            "Canada             72\n",
            "Germany            45\n",
            "Netherlands        27\n",
            "Ireland            27\n",
            "Australia          21\n",
            "France             13\n",
            "India              10\n",
            "Name: count, dtype: int64\n"
          ]
        }
      ],
      "source": [
        "# Group rare countries on the copied dataframe used later (df)\n",
        "country_counts = df['Country'].fillna('Unknown').value_counts()\n",
        "rare_threshold = 10\n",
        "rare_countries = country_counts[country_counts < rare_threshold].index.tolist()\n",
        "df['Country'] = df['Country'].fillna('Unknown').replace(rare_countries, 'Other')\n",
        "print(\"Country value counts after grouping rare countries (df):\")\n",
        "print(df['Country'].value_counts().head(20))"
      ]
    },
    {
      "cell_type": "code",
      "execution_count": 9,
      "metadata": {
        "colab": {
          "base_uri": "https://localhost:8080/"
        },
        "id": "5jTPduNjFohJ",
        "outputId": "11e9da8e-cb9f-4e76-d846-46a282723734"
      },
      "outputs": [
        {
          "output_type": "stream",
          "name": "stdout",
          "text": [
            "Timestamp: ['2014-08-27 11:29:31' '2014-08-27 11:29:37' '2014-08-27 11:29:44' ...\n",
            " '2015-11-07 12:36:58' '2015-11-30 21:25:06' '2016-02-01 23:04:31']\n",
            "Age: [37 44 32 31 33 35 39 42 23 29 36 27 46 41 34 30 40 38 50 24 18 28 26 22\n",
            " 19 25 45 21 43 56 60 54 55 48 20 57 58 47 62 51 65 49  5 53 61  8 11 72]\n",
            "Country: ['United States' 'Canada' 'United Kingdom' 'Other' 'France' 'Netherlands'\n",
            " 'Australia' 'Germany' 'Ireland' 'India']\n",
            "self_employed: ['Unknown' 'Yes' 'No']\n",
            "family_history: ['No' 'Yes']\n",
            "treatment: ['Yes' 'No']\n",
            "work_interfere: ['Often' 'Rarely' 'Never' 'Sometimes' 'Unknown']\n",
            "no_employees: ['6-25' 'More than 1000' '26-100' '100-500' '1-5' '500-1000']\n",
            "remote_work: ['No' 'Yes']\n",
            "tech_company: ['Yes' 'No']\n",
            "benefits: ['Yes' \"Don't know\" 'No']\n",
            "care_options: ['Not sure' 'No' 'Yes']\n",
            "wellness_program: ['No' \"Don't know\" 'Yes']\n",
            "seek_help: ['Yes' \"Don't know\" 'No']\n",
            "anonymity: ['Yes' \"Don't know\" 'No']\n",
            "leave: ['Somewhat easy' \"Don't know\" 'Somewhat difficult' 'Very difficult'\n",
            " 'Very easy']\n",
            "mental_health_consequence: ['No' 'Maybe' 'Yes']\n",
            "phys_health_consequence: ['No' 'Yes' 'Maybe']\n",
            "coworkers: ['Some of them' 'No' 'Yes']\n",
            "supervisor: ['Yes' 'No' 'Some of them']\n",
            "mental_health_interview: ['No' 'Yes' 'Maybe']\n",
            "phys_health_interview: ['Maybe' 'No' 'Yes']\n",
            "mental_vs_physical: ['Yes' \"Don't know\" 'No']\n",
            "obs_consequence: ['No' 'Yes']\n",
            "Gender_Clean: ['female' 'male' 'other']\n",
            "Age_standardized: [ 6.75640030e-01  1.62517064e+00 -2.59611923e-03 -1.38243349e-01\n",
            "  1.33051111e-01  4.04345570e-01  9.46934490e-01  1.35387618e+00\n",
            " -1.22342119e+00 -4.09537809e-01  5.39992800e-01 -6.80832269e-01\n",
            "  1.89646510e+00  1.21822895e+00  2.68698340e-01 -2.73890579e-01\n",
            "  1.08258172e+00  8.11287260e-01  2.43905402e+00 -1.08777396e+00\n",
            " -1.90165734e+00 -5.45185039e-01 -8.16479498e-01 -1.35906842e+00\n",
            " -1.76601011e+00 -9.52126728e-01  1.76081787e+00 -1.49471565e+00\n",
            "  1.48952341e+00  3.25293740e+00  3.79552632e+00  2.98164294e+00\n",
            "  3.11729017e+00  2.16775956e+00 -1.63036288e+00  3.38858463e+00\n",
            "  3.52423186e+00  2.03211233e+00  4.06682078e+00  2.57470125e+00\n",
            "  4.47376247e+00  2.30340679e+00 -3.66507133e+00  2.84599571e+00\n",
            "  3.93117355e+00 -3.25812964e+00 -2.85118795e+00  5.42329307e+00]\n"
          ]
        }
      ],
      "source": [
        "for cols in df.columns:\n",
        "  print(f\"{cols}: {df[cols].unique()}\")"
      ]
    },
    {
      "cell_type": "code",
      "execution_count": 10,
      "metadata": {
        "id": "J7VTB8D3wVZj"
      },
      "outputs": [],
      "source": [
        "binary_cols = [\n",
        "    \"family_history\", \"treatment\", \"remote_work\", \"tech_company\", \"obs_consequence\"\n",
        "]\n",
        "# lowercase keys to match .str.lower() below\n",
        "binary_map = {'yes': 1, 'no': 0}\n",
        "mappings = {}\n",
        "\n",
        "for c in binary_cols:\n",
        "    if c in df.columns:\n",
        "        # make string, lowercase, strip; then map; unknowns get -1\n",
        "        df[c] = df[c].fillna('Unknown').astype(str).str.strip().str.lower().map(binary_map).fillna(-1).astype(int)\n",
        "        mappings[c] = {'Yes': 1, 'No': 0, 'Unknown': -1}\n",
        "    else:\n",
        "        print(f\"Note: binary column '{c}' not found, skipping.\")\n",
        "\n",
        "\n"
      ]
    },
    {
      "cell_type": "code",
      "execution_count": 11,
      "metadata": {
        "id": "FOvn4Wcy53SI"
      },
      "outputs": [],
      "source": [
        "# ---- Ordinal mappings (explicit dicts) ----\n",
        "# Provide the expected orders (edit if you have different labels)\n",
        "work_map = {'Never': 0, 'Rarely': 1, 'Sometimes': 2, 'Often': 3, 'Unknown': -1}\n",
        "no_emp_map = {\n",
        "    '1-5': 0, '6-25': 1, '26-100': 2, '100-500': 3, '500-1000': 4,\n",
        "    'More than 1000': 5, 'Unknown': -1\n",
        "}\n",
        "leave_map = {\n",
        "    'Very difficult': 0, 'Somewhat difficult': 1, 'Somewhat easy': 2, 'Very easy': 3, 'Don\\'t know': -1, 'Unknown': -1\n",
        "}"
      ]
    },
    {
      "cell_type": "code",
      "execution_count": 12,
      "metadata": {
        "id": "FYUts6bp53SI"
      },
      "outputs": [],
      "source": [
        "# Apply work_interfere\n",
        "if 'work_interfere' in df.columns:\n",
        "    df['work_interfere'] = df['work_interfere'].fillna('Unknown').astype(str).map(\n",
        "        lambda v: work_map.get(v, work_map.get(v.title(), -1))\n",
        "    ).astype(int)\n",
        "    mappings['work_interfere'] = work_map\n",
        "else:\n",
        "    print(\"Note: 'work_interfere' not found, skipping.\")\n",
        "\n",
        "# Apply no_employees\n",
        "if 'no_employees' in df.columns:\n",
        "    df['no_employees'] = df['no_employees'].fillna('Unknown').astype(str).map(\n",
        "        lambda v: no_emp_map.get(v, no_emp_map.get(v.title(), -1))\n",
        "    ).astype(int)\n",
        "    mappings['no_employees'] = no_emp_map\n",
        "else:\n",
        "    print(\"Note: 'no_employees' not found, skipping.\")\n",
        "\n",
        "# Apply leave\n",
        "if 'leave' in df.columns:\n",
        "    df['leave'] = df['leave'].fillna('Unknown').astype(str).map(\n",
        "        lambda v: leave_map.get(v, leave_map.get(v.title(), -1))\n",
        "    ).astype(int)\n",
        "    mappings['leave'] = leave_map\n",
        "else:\n",
        "    print(\"Note: 'leave' not found, skipping.\")\n"
      ]
    },
    {
      "cell_type": "code",
      "execution_count": 13,
      "metadata": {
        "id": "IftTlvkO53SI"
      },
      "outputs": [],
      "source": [
        "three_map = {'no': 0, 'maybe': 1, 'yes': 2, 'unknown': -1}\n",
        "three_level_cols = [\n",
        "    \"mental_health_consequence\", \"phys_health_consequence\",\n",
        "    \"mental_health_interview\", \"phys_health_interview\"\n",
        "]\n",
        "for c in three_level_cols:\n",
        "    if c in df.columns:\n",
        "        df[c] = df[c].fillna('Unknown').astype(str).str.strip().str.lower().map(three_map).fillna(-1).astype(int)\n",
        "        mappings[c] = {'No': 0, 'Maybe': 1, 'Yes': 2, 'Unknown': -1}\n",
        "    else:\n",
        "        print(f\"Note: three-level column '{c}' not found, skipping.\")"
      ]
    },
    {
      "cell_type": "code",
      "execution_count": 14,
      "metadata": {
        "id": "oGpvxXiz53SI"
      },
      "outputs": [],
      "source": [
        "sot_map = {'no': 0, 'some of them': 1, 'yes': 2, 'unknown': -1}\n",
        "for c in ['coworkers', 'supervisor']:\n",
        "    if c in df.columns:\n",
        "        df[c] = df[c].fillna('Unknown').astype(str).str.strip().str.lower().map(sot_map).fillna(-1).astype(int)\n",
        "        mappings[c] = {'No': 0, 'Some of them': 1, 'Yes': 2, 'Unknown': -1}\n",
        "    else:\n",
        "        print(f\"Note: '{c}' not found, skipping.\")"
      ]
    },
    {
      "cell_type": "code",
      "execution_count": 15,
      "metadata": {
        "colab": {
          "base_uri": "https://localhost:8080/"
        },
        "id": "cFjN-Vrc53SI",
        "outputId": "d1044bda-258e-44fc-d135-f53fa0426853"
      },
      "outputs": [
        {
          "output_type": "stream",
          "name": "stdout",
          "text": [
            "One-hot encoded: ['Country', 'self_employed', 'benefits', 'care_options', 'wellness_program', 'seek_help', 'anonymity', 'mental_vs_physical', 'Gender_Clean']\n"
          ]
        }
      ],
      "source": [
        "one_hot_cols = [\n",
        "    \"Country\", \"self_employed\", \"benefits\", \"care_options\",\n",
        "    \"wellness_program\", \"seek_help\", \"anonymity\", \"mental_vs_physical\",\n",
        "    \"Gender_Clean\"\n",
        "]\n",
        "one_hot_present = [c for c in one_hot_cols if c in df.columns]\n",
        "if one_hot_present:\n",
        "    for c in one_hot_present:\n",
        "        df[c] = df[c].fillna('Unknown').astype(str)\n",
        "    df = pd.get_dummies(df, columns=one_hot_present, drop_first=False)\n",
        "    print(\"One-hot encoded:\", one_hot_present)\n",
        "else:\n",
        "    print(\"No one-hot nominal columns found, skipping get_dummies.\")"
      ]
    },
    {
      "cell_type": "code",
      "execution_count": 16,
      "metadata": {
        "id": "5BwDsKpb2BSP"
      },
      "outputs": [],
      "source": [
        "df.to_csv('/content/drive/MyDrive/KU-17_B01_Kandy_Uni/results/outputs/survey_encoded.csv', index=False)"
      ]
    },
    {
      "cell_type": "code",
      "execution_count": 17,
      "metadata": {
        "colab": {
          "base_uri": "https://localhost:8080/"
        },
        "id": "GTh85G2l28oq",
        "outputId": "885ba1e2-ab8b-4311-a3fd-41c20dbe6e96"
      },
      "outputs": [
        {
          "output_type": "execute_result",
          "data": {
            "text/plain": [
              "(1254, 51)"
            ]
          },
          "metadata": {},
          "execution_count": 17
        }
      ],
      "source": [
        "df.shape"
      ]
    },
    {
      "cell_type": "code",
      "execution_count": 18,
      "metadata": {
        "id": "CkZyPLJG-r_M",
        "colab": {
          "base_uri": "https://localhost:8080/"
        },
        "outputId": "d1ddb0d4-6c6d-4216-adf0-b4cd2732f3ec"
      },
      "outputs": [
        {
          "output_type": "stream",
          "name": "stdout",
          "text": [
            "Timestamp: ['2014-08-27 11:29:31' '2014-08-27 11:29:37' '2014-08-27 11:29:44' ...\n",
            " '2015-11-07 12:36:58' '2015-11-30 21:25:06' '2016-02-01 23:04:31']\n",
            "Age: [37 44 32 31 33 35 39 42 23 29 36 27 46 41 34 30 40 38 50 24 18 28 26 22\n",
            " 19 25 45 21 43 56 60 54 55 48 20 57 58 47 62 51 65 49  5 53 61  8 11 72]\n",
            "family_history: [0 1]\n",
            "treatment: [1 0]\n",
            "work_interfere: [ 3  1  0  2 -1]\n",
            "no_employees: [1 5 2 3 0 4]\n",
            "remote_work: [0 1]\n",
            "tech_company: [1 0]\n",
            "leave: [ 2 -1  1  0  3]\n",
            "mental_health_consequence: [0 1 2]\n",
            "phys_health_consequence: [0 2 1]\n",
            "coworkers: [1 0 2]\n",
            "supervisor: [2 0 1]\n",
            "mental_health_interview: [0 2 1]\n",
            "phys_health_interview: [1 0 2]\n",
            "obs_consequence: [0 1]\n",
            "Age_standardized: [ 6.75640030e-01  1.62517064e+00 -2.59611923e-03 -1.38243349e-01\n",
            "  1.33051111e-01  4.04345570e-01  9.46934490e-01  1.35387618e+00\n",
            " -1.22342119e+00 -4.09537809e-01  5.39992800e-01 -6.80832269e-01\n",
            "  1.89646510e+00  1.21822895e+00  2.68698340e-01 -2.73890579e-01\n",
            "  1.08258172e+00  8.11287260e-01  2.43905402e+00 -1.08777396e+00\n",
            " -1.90165734e+00 -5.45185039e-01 -8.16479498e-01 -1.35906842e+00\n",
            " -1.76601011e+00 -9.52126728e-01  1.76081787e+00 -1.49471565e+00\n",
            "  1.48952341e+00  3.25293740e+00  3.79552632e+00  2.98164294e+00\n",
            "  3.11729017e+00  2.16775956e+00 -1.63036288e+00  3.38858463e+00\n",
            "  3.52423186e+00  2.03211233e+00  4.06682078e+00  2.57470125e+00\n",
            "  4.47376247e+00  2.30340679e+00 -3.66507133e+00  2.84599571e+00\n",
            "  3.93117355e+00 -3.25812964e+00 -2.85118795e+00  5.42329307e+00]\n",
            "Country_Australia: [False  True]\n",
            "Country_Canada: [False  True]\n",
            "Country_France: [False  True]\n",
            "Country_Germany: [False  True]\n",
            "Country_India: [False  True]\n",
            "Country_Ireland: [False  True]\n",
            "Country_Netherlands: [False  True]\n",
            "Country_Other: [False  True]\n",
            "Country_United Kingdom: [False  True]\n",
            "Country_United States: [ True False]\n",
            "self_employed_No: [False  True]\n",
            "self_employed_Unknown: [ True False]\n",
            "self_employed_Yes: [False  True]\n",
            "benefits_Don't know: [False  True]\n",
            "benefits_No: [False  True]\n",
            "benefits_Yes: [ True False]\n",
            "care_options_No: [False  True]\n",
            "care_options_Not sure: [ True False]\n",
            "care_options_Yes: [False  True]\n",
            "wellness_program_Don't know: [False  True]\n",
            "wellness_program_No: [ True False]\n",
            "wellness_program_Yes: [False  True]\n",
            "seek_help_Don't know: [False  True]\n",
            "seek_help_No: [False  True]\n",
            "seek_help_Yes: [ True False]\n",
            "anonymity_Don't know: [False  True]\n",
            "anonymity_No: [False  True]\n",
            "anonymity_Yes: [ True False]\n",
            "mental_vs_physical_Don't know: [False  True]\n",
            "mental_vs_physical_No: [False  True]\n",
            "mental_vs_physical_Yes: [ True False]\n",
            "Gender_Clean_female: [ True False]\n",
            "Gender_Clean_male: [False  True]\n",
            "Gender_Clean_other: [False  True]\n"
          ]
        }
      ],
      "source": [
        "for cols in df.columns:\n",
        "  print(f\"{cols}: {df[cols].unique()}\")\n"
      ]
    },
    {
      "cell_type": "code",
      "execution_count": 19,
      "metadata": {
        "colab": {
          "base_uri": "https://localhost:8080/"
        },
        "id": "vTqedLa753SJ",
        "outputId": "a2956fd7-a358-40ee-e60c-1abc9d78cf77"
      },
      "outputs": [
        {
          "output_type": "stream",
          "name": "stdout",
          "text": [
            "Timestamp: 1242\n",
            "Age: 48\n",
            "family_history: 2\n",
            "treatment: 2\n",
            "work_interfere: 5\n",
            "no_employees: 6\n",
            "remote_work: 2\n",
            "tech_company: 2\n",
            "leave: 5\n",
            "mental_health_consequence: 3\n",
            "phys_health_consequence: 3\n",
            "coworkers: 3\n",
            "supervisor: 3\n",
            "mental_health_interview: 3\n",
            "phys_health_interview: 3\n",
            "obs_consequence: 2\n",
            "Age_standardized: 48\n",
            "Country_Australia: 2\n",
            "Country_Canada: 2\n",
            "Country_France: 2\n",
            "Country_Germany: 2\n",
            "Country_India: 2\n",
            "Country_Ireland: 2\n",
            "Country_Netherlands: 2\n",
            "Country_Other: 2\n",
            "Country_United Kingdom: 2\n",
            "Country_United States: 2\n",
            "self_employed_No: 2\n",
            "self_employed_Unknown: 2\n",
            "self_employed_Yes: 2\n",
            "benefits_Don't know: 2\n",
            "benefits_No: 2\n",
            "benefits_Yes: 2\n",
            "care_options_No: 2\n",
            "care_options_Not sure: 2\n",
            "care_options_Yes: 2\n",
            "wellness_program_Don't know: 2\n",
            "wellness_program_No: 2\n",
            "wellness_program_Yes: 2\n",
            "seek_help_Don't know: 2\n",
            "seek_help_No: 2\n",
            "seek_help_Yes: 2\n",
            "anonymity_Don't know: 2\n",
            "anonymity_No: 2\n",
            "anonymity_Yes: 2\n",
            "mental_vs_physical_Don't know: 2\n",
            "mental_vs_physical_No: 2\n",
            "mental_vs_physical_Yes: 2\n",
            "Gender_Clean_female: 2\n",
            "Gender_Clean_male: 2\n",
            "Gender_Clean_other: 2\n"
          ]
        }
      ],
      "source": [
        "for cols in df.columns:\n",
        "  print(f\"{cols}: {df[cols].nunique()}\")"
      ]
    },
    {
      "cell_type": "code",
      "execution_count": 22,
      "metadata": {
        "id": "xs4cz0Dg53SJ",
        "colab": {
          "base_uri": "https://localhost:8080/",
          "height": 1000
        },
        "outputId": "03404363-a15b-4893-d490-336823442a15"
      },
      "outputs": [
        {
          "output_type": "display_data",
          "data": {
            "text/plain": [
              "<Figure size 1000x500 with 1 Axes>"
            ],
            "image/png": "[encoded data removed]"
          },
          "metadata": {}
        },
        {
          "output_type": "display_data",
          "data": {
            "text/plain": [
              "<Figure size 1000x500 with 1 Axes>"
            ],
            "image/png": "[encoded data removed]"
          },
          "metadata": {}
        }
      ],
      "source": [
        "import matplotlib.pyplot as plt\n",
        "\n",
        "#  visualize \"Country\" before encoding\n",
        "plt.figure(figsize=(10,5))\n",
        "df_original = pd.read_csv('/content/drive/MyDrive/KU-17_B01_Kandy_Uni/results/outputs/survey_scaled.csv')\n",
        "\n",
        "df_original['Country'].value_counts().head(10).plot(kind='bar')\n",
        "plt.title(\"Top 10 Countries - Before Encoding\")\n",
        "plt.xlabel(\"Country\")\n",
        "plt.ylabel(\"Count\")\n",
        "plt.show()\n",
        "\n",
        "# After encoding\n",
        "country_cols = [c for c in df.columns if c.startswith(\"Country_\")]\n",
        "\n",
        "df[country_cols].sum().sort_values(ascending=False).head(10).plot(kind='bar', figsize=(10,5))\n",
        "plt.title(\"Top 10 Encoded Country Columns - After Encoding\")\n",
        "plt.xlabel(\"Encoded Country Column\")\n",
        "plt.ylabel(\"Count\")\n",
        "plt.show()\n"
      ]
    }
  ],
  "metadata": {
    "colab": {
      "provenance": []
    },
    "kernelspec": {
      "display_name": "base",
      "language": "python",
      "name": "python3"
    },
    "language_info": {
      "codemirror_mode": {
        "name": "ipython",
        "version": 3
      },
      "file_extension": ".py",
      "mimetype": "text/x-python",
      "name": "python",
      "nbconvert_exporter": "python",
      "pygments_lexer": "ipython3",
      "version": "3.12.7"
    }
  },
  "nbformat": 4,
  "nbformat_minor": 0
}