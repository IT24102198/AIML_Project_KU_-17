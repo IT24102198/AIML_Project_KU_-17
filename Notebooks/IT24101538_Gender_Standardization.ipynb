{
  "cells": [
    {
      "cell_type": "markdown",
      "metadata": {
        "id": "lfX01ZjPhS3q"
      },
      "source": [
        "# **Import Libraries**"
      ]
    },
    {
      "cell_type": "code",
      "execution_count": 1,
      "metadata": {
        "id": "o6x7kHkthVpj"
      },
      "outputs": [],
      "source": [
        "import pandas as pd\n",
        "import numpy as np\n",
        "import matplotlib.pyplot as plt\n",
        "import seaborn as sns"
      ]
    },
    {
      "cell_type": "markdown",
      "metadata": {
        "id": "VgiWKgMfiK9r"
      },
      "source": [
        "# **Standardizing the Gender Feature**"
      ]
    },
    {
      "cell_type": "code",
      "execution_count": 21,
      "metadata": {
        "id": "GuadAbgpiOXR"
      },
      "outputs": [],
      "source": [
        "df = pd.read_csv('/content/survey_cleaned.csv')"
      ]
    },
    {
      "cell_type": "code",
      "execution_count": 22,
      "metadata": {
        "colab": {
          "base_uri": "https://localhost:8080/"
        },
        "id": "LzxQt0HTixYV",
        "outputId": "dfa347a9-406c-41ac-911e-68f55a93e5ad"
      },
      "outputs": [
        {
          "output_type": "execute_result",
          "data": {
            "text/plain": [
              "array(['Female', 'M', 'Male', 'male', 'female', 'm', 'Male-ish', 'maile',\n",
              "       'Trans-female', 'Cis Female', 'F', 'something kinda male?',\n",
              "       'Cis Male', 'Woman', 'f', 'Mal', 'Male (CIS)', 'queer/she/they',\n",
              "       'non-binary', 'Femake', 'woman', 'Make', 'Nah', 'All', 'Enby',\n",
              "       'fluid', 'Genderqueer', 'Female ', 'Androgyne', 'Agender',\n",
              "       'cis-female/femme', 'Guy (-ish) ^_^', 'male leaning androgynous',\n",
              "       'Male ', 'Man', 'Trans woman', 'msle', 'Neuter', 'Female (trans)',\n",
              "       'queer', 'Female (cis)', 'Mail', 'cis male', 'A little about you',\n",
              "       'Malr', 'p', 'femail', 'Cis Man',\n",
              "       'ostensibly male, unsure what that really means'], dtype=object)"
            ]
          },
          "metadata": {},
          "execution_count": 22
        }
      ],
      "source": [
        "df['Gender'].unique()"
      ]
    },
    {
      "cell_type": "code",
      "execution_count": 3,
      "metadata": {
        "colab": {
          "base_uri": "https://localhost:8080/"
        },
        "id": "_tyHoiHxjy2K",
        "outputId": "74db7ac4-05ab-41e8-86df-915f99c903c8"
      },
      "outputs": [
        {
          "output_type": "execute_result",
          "data": {
            "text/plain": [
              "49"
            ]
          },
          "metadata": {},
          "execution_count": 3
        }
      ],
      "source": [
        "df['Gender'].nunique()"
      ]
    },
    {
      "cell_type": "code",
      "execution_count": 4,
      "metadata": {
        "id": "yoN8dpw7k5VA"
      },
      "outputs": [],
      "source": [
        "# make copy\n",
        "df['Gender_Clean'] = df['Gender']\n",
        "\n",
        "# convert to lowecase\n",
        "df['Gender_Clean'] = df['Gender'].astype(str).str.lower().str.strip().fillna('')"
      ]
    },
    {
      "cell_type": "code",
      "execution_count": 5,
      "metadata": {
        "colab": {
          "base_uri": "https://localhost:8080/"
        },
        "id": "XcLfSjUb3YLG",
        "outputId": "61e11bbf-35c4-4b3f-d737-d4fe5bdbb3de"
      },
      "outputs": [
        {
          "output_type": "execute_result",
          "data": {
            "text/plain": [
              "41"
            ]
          },
          "metadata": {},
          "execution_count": 5
        }
      ],
      "source": [
        "df['Gender_Clean'].nunique()"
      ]
    },
    {
      "cell_type": "code",
      "execution_count": 6,
      "metadata": {
        "id": "mTdblGPblcRy"
      },
      "outputs": [],
      "source": [
        "male_variations = ['male', 'm', 'man', 'cis male', 'cis man', 'male ',\n",
        "    'cis-male', 'male (cis)', 'malr', 'maile', 'msle', 'make',\n",
        "    'male (trans)', 'male leaning androgynous', 'guy', 'male-ish',\n",
        "    'cis male ', 'cis-male ', 'cis man ', 'cis man', 'cis male', 'cis man', 'gent', 'him']\n",
        "female_variations = ['female', 'f', 'woman', 'cis female', 'cis woman', 'female ',\n",
        "    'cis-female', 'female (cis)', 'cis-female ', 'cis female ',\n",
        "    'female ', 'woman ', 'cis woman', 'she', 'her'\n",
        "]"
      ]
    },
    {
      "cell_type": "code",
      "execution_count": 20,
      "metadata": {
        "id": "uH-vy4OBl1Oy"
      },
      "outputs": [],
      "source": [
        "for i in range(len(df['Gender_Clean'])):\n",
        "  if df.loc[i, 'Gender_Clean'] in female_variations:\n",
        "    df.loc[i, 'Gender_Clean'] = 'female'\n",
        "  elif df.loc[i, 'Gender_Clean'] in male_variations:\n",
        "    df.loc[i, 'Gender_Clean'] = 'male'\n",
        "  else:\n",
        "    df.loc[i, 'Gender_Clean'] = 'other'"
      ]
    },
    {
      "cell_type": "code",
      "execution_count": 8,
      "metadata": {
        "colab": {
          "base_uri": "https://localhost:8080/"
        },
        "id": "1JxfWML2mRaw",
        "outputId": "0c10955f-7b52-4517-8092-c42acfd227fa"
      },
      "outputs": [
        {
          "output_type": "execute_result",
          "data": {
            "text/plain": [
              "array(['female', 'male', 'other'], dtype=object)"
            ]
          },
          "metadata": {},
          "execution_count": 8
        }
      ],
      "source": [
        "df['Gender_Clean'].unique()"
      ]
    },
    {
      "cell_type": "code",
      "execution_count": 9,
      "metadata": {
        "colab": {
          "base_uri": "https://localhost:8080/",
          "height": 209
        },
        "id": "C1HxV6Y1moy3",
        "outputId": "fe251bc6-85ef-4c90-a0b5-0effea949520"
      },
      "outputs": [
        {
          "output_type": "execute_result",
          "data": {
            "text/plain": [
              "Gender_Clean\n",
              "male      990\n",
              "female    244\n",
              "other      25\n",
              "Name: count, dtype: int64"
            ],
            "text/html": [
              "<div>\n",
              "<style scoped>\n",
              "    .dataframe tbody tr th:only-of-type {\n",
              "        vertical-align: middle;\n",
              "    }\n",
              "\n",
              "    .dataframe tbody tr th {\n",
              "        vertical-align: top;\n",
              "    }\n",
              "\n",
              "    .dataframe thead th {\n",
              "        text-align: right;\n",
              "    }\n",
              "</style>\n",
              "<table border=\"1\" class=\"dataframe\">\n",
              "  <thead>\n",
              "    <tr style=\"text-align: right;\">\n",
              "      <th></th>\n",
              "      <th>count</th>\n",
              "    </tr>\n",
              "    <tr>\n",
              "      <th>Gender_Clean</th>\n",
              "      <th></th>\n",
              "    </tr>\n",
              "  </thead>\n",
              "  <tbody>\n",
              "    <tr>\n",
              "      <th>male</th>\n",
              "      <td>990</td>\n",
              "    </tr>\n",
              "    <tr>\n",
              "      <th>female</th>\n",
              "      <td>244</td>\n",
              "    </tr>\n",
              "    <tr>\n",
              "      <th>other</th>\n",
              "      <td>25</td>\n",
              "    </tr>\n",
              "  </tbody>\n",
              "</table>\n",
              "</div><br><label><b>dtype:</b> int64</label>"
            ]
          },
          "metadata": {},
          "execution_count": 9
        }
      ],
      "source": [
        "df['Gender_Clean'].value_counts()"
      ]
    },
    {
      "cell_type": "code",
      "execution_count": 10,
      "metadata": {
        "colab": {
          "base_uri": "https://localhost:8080/",
          "height": 367
        },
        "id": "H56ZmgA8m09T",
        "outputId": "509082bb-61d1-492d-d334-340f7b054816"
      },
      "outputs": [
        {
          "output_type": "display_data",
          "data": {
            "text/plain": [
              "<Figure size 500x300 with 1 Axes>"
            ],
            "image/png": "[encoded data removed]"
          },
          "metadata": {}
        }
      ],
      "source": [
        "plt.figure(figsize=(5,3))\n",
        "df['Gender_Clean'].value_counts().plot(kind='bar')\n",
        "plt.title('Gender Distribution')\n",
        "plt.xlabel('Gender')\n",
        "plt.ylabel('Count')\n",
        "plt.show()"
      ]
    },
    {
      "cell_type": "markdown",
      "metadata": {
        "id": "7wUZ7l9CnRmS"
      },
      "source": [
        "After standardizing the gender column, all responses were grouped into ‘male’, ‘female’, or ‘other’. The majority (937) were classified as ‘other’, likely due to ambiguous or non-binary responses. This cleaned column is now suitable for analysis and encoding"
      ]
    },
    {
      "cell_type": "code",
      "execution_count": 11,
      "metadata": {
        "id": "xRMtGgxcx8VX"
      },
      "outputs": [],
      "source": [
        "df = df.drop('Gender', axis=1)"
      ]
    },
    {
      "cell_type": "code",
      "execution_count": 19,
      "metadata": {
        "id": "cuKHTo4InoBu"
      },
      "outputs": [],
      "source": [
        "df.to_csv('/content/survey_cleaned_II.csv', index = None)"
      ]
    }
  ],
  "metadata": {
    "colab": {
      "provenance": []
    },
    "kernelspec": {
      "display_name": "base",
      "language": "python",
      "name": "python3"
    },
    "language_info": {
      "codemirror_mode": {
        "name": "ipython",
        "version": 3
      },
      "file_extension": ".py",
      "mimetype": "text/x-python",
      "name": "python",
      "nbconvert_exporter": "python",
      "pygments_lexer": "ipython3",
      "version": "3.12.7"
    }
  },
  "nbformat": 4,
  "nbformat_minor": 0
}